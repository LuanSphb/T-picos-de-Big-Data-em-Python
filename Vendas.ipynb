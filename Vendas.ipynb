{
 "cells": [
  {
   "cell_type": "code",
   "execution_count": 1,
   "metadata": {},
   "outputs": [
    {
     "data": {
      "application/vnd.jupyter.widget-view+json": {
       "model_id": "be3e101621de4dd196bb9f7d013e22d3",
       "version_major": 2,
       "version_minor": 0
      },
      "text/plain": [
       "interactive(children=(Dropdown(description='Consultor(a):', options=('Todos', 'ALANE RODRIGUES DE SOUSA', 'ANA…"
      ]
     },
     "metadata": {},
     "output_type": "display_data"
    },
    {
     "data": {
      "application/vnd.jupyter.widget-view+json": {
       "model_id": "ba677396cd5743c09b46eee55ffcde09",
       "version_major": 2,
       "version_minor": 0
      },
      "text/plain": [
       "HTML(value=\"<b>TOTAL DE VENDAS NO PERÍODO</b>: <span style='color:green;'><b>125761.60</b></span>\", layout=Lay…"
      ]
     },
     "metadata": {},
     "output_type": "display_data"
    },
    {
     "data": {
      "application/vnd.jupyter.widget-view+json": {
       "model_id": "6c07ff223b8749abb6996eb18bc12d2b",
       "version_major": 2,
       "version_minor": 0
      },
      "text/plain": [
       "HTML(value=\"<b>Situação</b>: <span style='color:gray;'><b>Consultor(a) não selecionado</b></span>\", layout=Lay…"
      ]
     },
     "metadata": {},
     "output_type": "display_data"
    }
   ],
   "source": [
    "import pandas as pd\n",
    "import matplotlib.pyplot as plt\n",
    "from ipywidgets import interact, widgets, Layout\n",
    "\n",
    "# Leitura dos dados da tabela existente\n",
    "df = pd.read_excel(\"tb_2.xlsx\")\n",
    "\n",
    "# Leitura dos dados da nova tabela\n",
    "df_nova = pd.read_excel(\"Consultores.xlsx\")  # Substitua pelo caminho do seu arquivo Excel\n",
    "\n",
    "# Substituir vírgulas por pontos e converter a coluna 'Venda_Tupperware' para float\n",
    "df['Venda_Tupperware'] = df['Venda_Tupperware'].str.replace(',', '.').astype(float)\n",
    "\n",
    "# Garantir que 'Semana' seja tratada como variável inteira\n",
    "df['Semana'] = pd.to_numeric(df['Semana'], errors='coerce').astype('Int64')  # Use 'Int64' para inteiros nulos\n",
    "\n",
    "# Adicionar coluna \"Status\" na tabela existente com base na correspondência\n",
    "df['Status'] = df['ID_Consultor(a)'].apply(lambda x: 'Ativo' if x in df_nova['Codigo'].values else 'Inativo')\n",
    "\n",
    "# Função para plotar dados com base no valor selecionado no dropdown\n",
    "def plot_data(selected_value):\n",
    "    if selected_value == 'Todos':\n",
    "        # Agregar vendas por semana\n",
    "        aggregated_df = df.groupby('Semana', as_index=False)['Venda_Tupperware'].sum()\n",
    "        title = 'Total de Vendas por Semana para Todos os Consultores'\n",
    "        total_sales = df['Venda_Tupperware'].sum()\n",
    "        status_text.value = \"<b>Situação</b>: <span style='color:gray;'><b>Consultor(a) não selecionado</b></span>\"\n",
    "    else:\n",
    "        aggregated_df = df[df['Consultor(a)'] == selected_value]\n",
    "        title = f'Vendas por Semana para: {selected_value}'\n",
    "        total_sales = aggregated_df['Venda_Tupperware'].sum()\n",
    "        \n",
    "        # Atualizar o campo de status com base no valor do consultor selecionado\n",
    "        status = df[df['Consultor(a)'] == selected_value]['Status'].values[0]\n",
    "        color = 'green' if status == 'Ativo' else 'red'\n",
    "        status_text.value = f\"<b>SITUAÇÃO</b>: <span style='color:{color};'><b>{status}</b></span>\"\n",
    "    \n",
    "    aggregated_df = aggregated_df.sort_values(by='Semana')\n",
    "    plt.figure(figsize=(10, 6))\n",
    "    plt.plot(aggregated_df['Semana'], aggregated_df['Venda_Tupperware'], marker='o')\n",
    "    plt.title(title)\n",
    "    plt.xlabel('Semana')\n",
    "    plt.ylabel('Vendas')\n",
    "    plt.ylim(0, aggregated_df['Venda_Tupperware'].max() * 1.1)  # Ajusta o limite do eixo y\n",
    "    plt.grid(True)\n",
    "    \n",
    "    # Anotar cada ponto com o valor exato das vendas\n",
    "    for i in range(len(aggregated_df)):\n",
    "        plt.annotate(f'{aggregated_df[\"Venda_Tupperware\"].iloc[i]:.2f}', \n",
    "                     (aggregated_df['Semana'].iloc[i], aggregated_df['Venda_Tupperware'].iloc[i]), \n",
    "                     textcoords=\"offset points\", xytext=(0,10), ha='center')\n",
    "    \n",
    "    plt.show()\n",
    "    \n",
    "    # Atualizar o widget de vendas totais\n",
    "    total_sales_text.value = f\"<b>TOTAL DE VENDAS NO PERÍODO</b>: <span style='color:green;'><b>{total_sales:.2f}</b></span>\"\n",
    "\n",
    "# Criar um widget dropdown para selecionar valores com uma opção para \"Todos\"\n",
    "unique_values = ['Todos'] + sorted(df['Consultor(a)'].unique().tolist())  # Ordena os valores antes de criar o dropdown\n",
    "value_widget = widgets.Dropdown(\n",
    "    options=unique_values,\n",
    "    description='Consultor(a):',\n",
    "    disabled=False\n",
    ")\n",
    "\n",
    "# Criar um widget de texto para exibir o total de vendas\n",
    "total_sales_text = widgets.HTML(\n",
    "    value=\"\",\n",
    "    layout=Layout(margin='10px 0px 0px 0px')\n",
    ")\n",
    "\n",
    "# Criar um widget de texto para exibir o status\n",
    "status_text = widgets.HTML(\n",
    "    value=\"<b>SITUAÇÃO</b>: <span style='color:gray;'><b>Consultor(a) não selecionado</b></span>\",\n",
    "    layout=Layout(margin='0px 0px 0px 0px')\n",
    ")\n",
    "\n",
    "# Exibir os widgets\n",
    "interact(plot_data, selected_value=value_widget)\n",
    "display(total_sales_text)\n",
    "display(status_text)\n"
   ]
  }
 ],
 "metadata": {
  "kernelspec": {
   "display_name": "Python 3",
   "language": "python",
   "name": "python3"
  },
  "language_info": {
   "codemirror_mode": {
    "name": "ipython",
    "version": 3
   },
   "file_extension": ".py",
   "mimetype": "text/x-python",
   "name": "python",
   "nbconvert_exporter": "python",
   "pygments_lexer": "ipython3",
   "version": "3.12.5"
  }
 },
 "nbformat": 4,
 "nbformat_minor": 2
}
